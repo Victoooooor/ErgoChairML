{
 "cells": [
  {
   "cell_type": "code",
   "metadata": {
    "collapsed": true,
    "pycharm": {
     "name": "#%%\n",
     "is_executing": true
    }
   },
   "source": [
    "import os\n",
    "import pathlib\n",
    "\n",
    "import tensorflow as tf\n",
    "from PIL import Image, ImageSequence\n",
    "from gen_chair.gen_multi import Preprocess\n",
    "from gen_chair import pix2pix\n",
    "from gen_chair import coco\n",
    "\n",
    "class InferenceConfig(coco.CocoConfig):\n",
    "  # Set batch size to 1 since we'll be running inference on\n",
    "  # one image at a time. Batch size = GPU_COUNT * IMAGES_PER_GPU\n",
    "  GPU_COUNT = 1\n",
    "  IMAGES_PER_GPU = 1\n",
    "\n",
    "def Infer(preproc, generator, origin, masked = True):\n",
    "\n",
    "  pre = preproc(origin)\n",
    "  if type(pre) is tuple:\n",
    "      if masked:\n",
    "        seg = pre[0]\n",
    "      else:\n",
    "        seg = pre[1]\n",
    "  else:\n",
    "      seg = None\n",
    "  origin = tf.cast(tf.image.resize_with_pad(origin, 256, 256), dtype=tf.int32)\n",
    "\n",
    "  if seg is not None:\n",
    "    seg  = tf.keras.preprocessing.image.img_to_array(seg)\n",
    "\n",
    "  else:\n",
    "    seg = origin\n",
    "\n",
    "  seg = tf.expand_dims(seg, axis=0)\n",
    "  seg = tf.cast(tf.image.resize_with_pad(seg, 256, 256), dtype=tf.int32)\n",
    "\n",
    "  gen = generator(seg ,training=True)\n",
    "  gen = tf.keras.utils.array_to_img(gen[0])\n",
    "\n",
    "  seg = tf.keras.utils.array_to_img(seg[0])\n",
    "\n",
    "\n",
    "\n",
    "  origin = tf.keras.utils.array_to_img(origin)\n",
    "  dst = Image.new('RGB', (origin.width + seg.width + gen.width, origin.height))\n",
    "  dst.paste(origin, (0, 0))\n",
    "  dst.paste(seg, (origin.width, 0))\n",
    "  dst.paste(gen, (origin.width+seg.width, 0))\n",
    "  return dst\n",
    "\n",
    "print(os.getcwd())\n",
    "\n",
    "\n",
    "# PATH = '../pose'\n",
    "# path_to_zip = pathlib.Path(PATH)\n",
    "# PATH = path_to_zip / 'sitting_in_chair'\n",
    "\n",
    "cp_path = ''\n",
    "cpdir = '../masked_checkpoints'\n",
    "\n",
    "# image_names = sorted(\n",
    "#     [n for n in os.listdir(PATH) if not n.startswith('.')])\n",
    "\n",
    "prep = Preprocess(InferenceConfig)\n",
    "cpdir_mask = '../masked_checkpoints'\n",
    "masked = pix2pix(cpdir_mask)\n",
    "masked.loadcp()\n",
    "\n",
    "cpdir_ske = '../skeleton_checkpoints'\n",
    "skeleton = pix2pix(cpdir_ske)\n",
    "skeleton.loadcp()\n",
    "outdr1 = '../out_seg'\n",
    "outdr2 = '../out_ske'\n",
    "img_suffix = ('.jpg', '.png', '.ico', '.gif', '.jpeg')\n",
    "vid_suffix = ('.avi','.mp4')\n",
    "os.makedirs(outdr1,exist_ok=True)\n",
    "os.makedirs(outdr2,exist_ok=True)"
   ],
   "execution_count": null,
   "outputs": [
    {
     "name": "stderr",
     "output_type": "stream",
     "text": [
      "\n",
      "KeyboardInterrupt\n",
      "\n"
     ]
    }
   ]
  },
  {
   "cell_type": "code",
   "execution_count": 2,
   "outputs": [
    {
     "ename": "NameError",
     "evalue": "name 'img_suffix' is not defined",
     "output_type": "error",
     "traceback": [
      "\u001B[0;31m---------------------------------------------------------------------------\u001B[0m",
      "\u001B[0;31mNameError\u001B[0m                                 Traceback (most recent call last)",
      "Input \u001B[0;32mIn [2]\u001B[0m, in \u001B[0;36m<module>\u001B[0;34m\u001B[0m\n\u001B[1;32m     25\u001B[0m     mask_frames[\u001B[38;5;241m0\u001B[39m]\u001B[38;5;241m.\u001B[39msave(os\u001B[38;5;241m.\u001B[39mpath\u001B[38;5;241m.\u001B[39mjoin(outdr1, image_name),\n\u001B[1;32m     26\u001B[0m         save_all\u001B[38;5;241m=\u001B[39m\u001B[38;5;28;01mTrue\u001B[39;00m,\n\u001B[1;32m     27\u001B[0m         append_images\u001B[38;5;241m=\u001B[39mmask_frames[\u001B[38;5;241m1\u001B[39m:],\n\u001B[1;32m     28\u001B[0m         duration\u001B[38;5;241m=\u001B[39mdurations,\n\u001B[1;32m     29\u001B[0m         loop\u001B[38;5;241m=\u001B[39m\u001B[38;5;241m0\u001B[39m)\n\u001B[1;32m     30\u001B[0m     ske_frames[\u001B[38;5;241m0\u001B[39m]\u001B[38;5;241m.\u001B[39msave(os\u001B[38;5;241m.\u001B[39mpath\u001B[38;5;241m.\u001B[39mjoin(outdr2, image_name),\n\u001B[1;32m     31\u001B[0m         save_all\u001B[38;5;241m=\u001B[39m\u001B[38;5;28;01mTrue\u001B[39;00m,\n\u001B[1;32m     32\u001B[0m         append_images\u001B[38;5;241m=\u001B[39mske_frames[\u001B[38;5;241m1\u001B[39m:],\n\u001B[1;32m     33\u001B[0m         duration\u001B[38;5;241m=\u001B[39mdurations,\n\u001B[1;32m     34\u001B[0m         loop\u001B[38;5;241m=\u001B[39m\u001B[38;5;241m0\u001B[39m)\n\u001B[0;32m---> 35\u001B[0m \u001B[38;5;28;01melif\u001B[39;00m image_path\u001B[38;5;241m.\u001B[39mendswith(\u001B[43mimg_suffix\u001B[49m):\n\u001B[1;32m     36\u001B[0m     image \u001B[38;5;241m=\u001B[39m tf\u001B[38;5;241m.\u001B[39mio\u001B[38;5;241m.\u001B[39mread_file(image_path)\n\u001B[1;32m     37\u001B[0m     image \u001B[38;5;241m=\u001B[39m tf\u001B[38;5;241m.\u001B[39mio\u001B[38;5;241m.\u001B[39mdecode_jpeg(image)\n",
      "\u001B[0;31mNameError\u001B[0m: name 'img_suffix' is not defined"
     ]
    }
   ],
   "source": [
    "import numpy as np\n",
    "import cv2\n",
    "\n",
    "PATH = '../data/gif'\n",
    "# PATH = '../data/cartoon_sitting'\n",
    "imgdr = PATH\n",
    "image_name = 'tt.mp4'\n",
    "# image_name = 'cartoon sitting_3.jpeg'\n",
    "image_path = os.path.join(imgdr, image_name)\n",
    "if image_path.endswith('.gif'):\n",
    "    image = Image.open(image_path)\n",
    "    image.seek(0)\n",
    "    mask_frames = []\n",
    "    ske_frames = []\n",
    "    durations = []\n",
    "    for frame in ImageSequence.Iterator(image):\n",
    "        durations.append(image.info['duration'])\n",
    "        frame = frame.convert('RGB')\n",
    "        tfframe = tf.convert_to_tensor(np.array(frame))\n",
    "        mframe = Infer(prep.img_seg, masked.generator, tfframe, True)\n",
    "        sframe = Infer(prep.img_seg, skeleton.generator, tfframe, False)\n",
    "\n",
    "        mask_frames.append(mframe)\n",
    "        ske_frames.append(sframe)\n",
    "    mask_frames[0].save(os.path.join(outdr1, image_name),\n",
    "        save_all=True,\n",
    "        append_images=mask_frames[1:],\n",
    "        duration=durations,\n",
    "        loop=0)\n",
    "    ske_frames[0].save(os.path.join(outdr2, image_name),\n",
    "        save_all=True,\n",
    "        append_images=ske_frames[1:],\n",
    "        duration=durations,\n",
    "        loop=0)\n",
    "elif image_path.endswith(img_suffix):\n",
    "    image = tf.io.read_file(image_path)\n",
    "    image = tf.io.decode_jpeg(image)\n",
    "    print(type(image))\n",
    "    maskout = Infer(prep.img_seg, masked.generator, image, True)\n",
    "    skeletonout = Infer(prep.img_seg, skeleton.generator, image, False)\n",
    "    maskout.save(os.path.join(outdr1, image_name))\n",
    "    skeletonout.save(os.path.join(outdr2, image_name))\n",
    "elif image_path.endswith(vid_suffix):\n",
    "    print('video',image_path)\n",
    "    video = cv2.VideoCapture(image_path)\n",
    "    if not video.isOpened():\n",
    "        print('video does not exist')\n",
    "        exit()\n",
    "    fps = int(video.get(cv2.CAP_PROP_FPS))\n",
    "    frame_num = int(video.get(cv2.CAP_PROP_FRAME_COUNT))\n",
    "    frame_width = 256*3\n",
    "    frame_height = 256\n",
    "    fourcc = cv2.VideoWriter_fourcc(*'mp4v')\n",
    "    name1 = os.path.join(outdr1, image_name)\n",
    "    name2 = os.path.join(outdr2, image_name)\n",
    "    video_writer1 = cv2.VideoWriter(name1,fourcc,fps,(frame_width,frame_height))\n",
    "    video_writer2 = cv2.VideoWriter(name2,fourcc,fps,(frame_width,frame_height))\n",
    "    print(\"Frames per second using video.get(cv2.CAP_PROP_FPS) : {0}\".format(fps))\n",
    "    counter =0\n",
    "    while True:\n",
    "      ret, frame = video.read()\n",
    "      if ret == True:\n",
    "          tfframe= tf.convert_to_tensor(frame)\n",
    "          mframe = Infer(prep.img_seg, masked.generator, tfframe, True)\n",
    "          sframe = Infer(prep.img_seg, skeleton.generator, tfframe, False)\n",
    "          m_cv2 = cv2.cvtColor(np.array(mframe), cv2.COLOR_RGB2BGR)\n",
    "          s_cv2 = cv2.cvtColor(np.array(sframe), cv2.COLOR_RGB2BGR)\n",
    "          video_writer1.write(m_cv2)\n",
    "          video_writer2.write(s_cv2)\n",
    "          counter +=1\n",
    "      if ret == False:\n",
    "          break\n",
    "    video.release()\n",
    "    video_writer1.release()\n",
    "    video_writer2.release()\n",
    "    cv2.destroyAllWindows()"
   ],
   "metadata": {
    "collapsed": false,
    "pycharm": {
     "name": "#%%\n"
    }
   }
  },
  {
   "cell_type": "code",
   "execution_count": null,
   "outputs": [],
   "source": [],
   "metadata": {
    "collapsed": false,
    "pycharm": {
     "name": "#%%\n"
    }
   }
  }
 ],
 "metadata": {
  "kernelspec": {
   "display_name": "Python 3",
   "language": "python",
   "name": "python3"
  },
  "language_info": {
   "codemirror_mode": {
    "name": "ipython",
    "version": 2
   },
   "file_extension": ".py",
   "mimetype": "text/x-python",
   "name": "python",
   "nbconvert_exporter": "python",
   "pygments_lexer": "ipython2",
   "version": "2.7.6"
  }
 },
 "nbformat": 4,
 "nbformat_minor": 0
}